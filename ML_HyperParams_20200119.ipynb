{
 "cells": [
  {
   "cell_type": "markdown",
   "metadata": {},
   "source": [
    "# 超参优化"
   ]
  },
  {
   "cell_type": "markdown",
   "metadata": {},
   "source": [
    "## GridSearch用法"
   ]
  },
  {
   "cell_type": "code",
   "execution_count": 1,
   "metadata": {
    "collapsed": true
   },
   "outputs": [],
   "source": [
    "from sklearn.model_selection import GridSearchCV"
   ]
  },
  {
   "cell_type": "markdown",
   "metadata": {},
   "source": [
    "<font color='blue' size=3>GridSearchCV参数</font>"
   ]
  },
  {
   "cell_type": "markdown",
   "metadata": {},
   "source": [
    "|参数|默认值|解释|\n",
    "|:-------:|:---|:--------|\n",
    "|estimator|无|模型估计器，使用scikit-learn的接口。|\n",
    "|param_grid|无|需要遍历的参数和取值。|\n",
    "|scoring|None|模型评价标准，默认None,这时需要使用score函数,或者如scoring='roc_auc'，根据所选模型不同，评价准则不同。|\n",
    "|fit_params|None||\n",
    "|n_jobs|None|并行数，int,-1:跟CPU核数一致。|\n",
    "|iid|'warn'|默认为True，各个样本fold概率分布一致。|\n",
    "|refit|True|再搜索参数结束后，用最佳参数结果再次fit一遍全部数据集。|\n",
    "|cv|None|默认为None，就是3折交叉验证，可以指定fold数量。|\n",
    "|verbose|0|日志长度，0：不输出训练过程；1：偶尔输出；>1：每个子模型都输出。|\n",
    "|pre_dispatch|'2*n_jobs'|预派遣任务数，指定总分发的并行任务数。|\n",
    "|err_score|'raise-deprecating'|默认值：在拟合过程中产生误差，误差分数会提高。|\n",
    "|return_train_score|'warn'|默认为True，返回的cv_results_属性包括训练分数。|\n",
    "[scoring取值](https://scikit-learn.org/stable/modules/model_evaluation.html#scoring-parameter\n",
    ")"
   ]
  },
  {
   "cell_type": "markdown",
   "metadata": {},
   "source": [
    "<font color='blue' size=3>GridSearchCV例子</font>"
   ]
  },
  {
   "cell_type": "code",
   "execution_count": 2,
   "metadata": {
    "collapsed": true
   },
   "outputs": [],
   "source": [
    "from sklearn import datasets\n",
    "from sklearn.model_selection import train_test_split\n",
    "#用sklearn自带数据集\n",
    "dt = datasets.load_breast_cancer()\n",
    "trainSet = dt.data\n",
    "Label = dt.target\n",
    "#划分训练集和测试集\n",
    "X_train,X_test,y_train,y_test= train_test_split(trainSet,Label,test_size=0.2,random_state=1234)"
   ]
  },
  {
   "cell_type": "markdown",
   "metadata": {},
   "source": [
    "**先直接用默认超参数的LightGBM建模**"
   ]
  },
  {
   "cell_type": "code",
   "execution_count": 26,
   "metadata": {
    "collapsed": true
   },
   "outputs": [],
   "source": [
    "#用lightgbm模型\n",
    "from lightgbm.sklearn import LGBMClassifier\n",
    "#调用实例\n",
    "lgbm = LGBMClassifier(reg_alpha=1)"
   ]
  },
  {
   "cell_type": "code",
   "execution_count": 27,
   "metadata": {},
   "outputs": [
    {
     "data": {
      "text/plain": [
       "LGBMClassifier(boosting_type='gbdt', class_weight=None, colsample_bytree=1.0,\n",
       "        learning_rate=0.1, max_depth=-1, min_child_samples=20,\n",
       "        min_child_weight=0.001, min_split_gain=0.0, n_estimators=100,\n",
       "        n_jobs=-1, num_leaves=31, objective=None, random_state=None,\n",
       "        reg_alpha=1, reg_lambda=0.0, silent=True, subsample=1.0,\n",
       "        subsample_for_bin=200000, subsample_freq=1)"
      ]
     },
     "execution_count": 27,
     "metadata": {},
     "output_type": "execute_result"
    }
   ],
   "source": [
    "#训练\n",
    "lgbm.fit(X_train, y_train)"
   ]
  },
  {
   "cell_type": "code",
   "execution_count": 28,
   "metadata": {
    "collapsed": true
   },
   "outputs": [],
   "source": [
    "#预测结果\n",
    "lgbm_preY_prob = lgbm.predict_proba(X_test)[:,1]\n",
    "lgbm_preY = lgbm.predict(X_test)"
   ]
  },
  {
   "cell_type": "code",
   "execution_count": 29,
   "metadata": {},
   "outputs": [
    {
     "data": {
      "image/png": "[encoded data removed]",
      "text/plain": [
       "<matplotlib.figure.Figure at 0x234ba6b06a0>"
      ]
     },
     "metadata": {},
     "output_type": "display_data"
    },
    {
     "name": "stdout",
     "output_type": "stream",
     "text": [
      "auc:0.983\n"
     ]
    }
   ],
   "source": [
    "#ROC和AUC评价\n",
    "import matplotlib.pyplot as plt\n",
    "from sklearn import metrics\n",
    "fpr, tpr, thres = metrics.roc_curve(y_test, lgbm_preY_prob)\n",
    "auc = metrics.roc_auc_score(y_test, lgbm_preY_prob)\n",
    "plt.plot(fpr, tpr, \"b-\")\n",
    "plt.title(\"Roc_Curve\")\n",
    "plt.show()\n",
    "print(\"auc:%.3f\"%auc)"
   ]
  },
  {
   "cell_type": "markdown",
   "metadata": {},
   "source": [
    "**用GridSearch寻找LightGBM模型超参**"
   ]
  },
  {
   "cell_type": "code",
   "execution_count": 30,
   "metadata": {
    "collapsed": true
   },
   "outputs": [],
   "source": [
    "from lightgbm.sklearn import LGBMClassifier\n",
    "from sklearn.model_selection import GridSearchCV\n",
    "from sklearn import metrics\n",
    "import matplotlib.pyplot as plt"
   ]
  },
  {
   "cell_type": "code",
   "execution_count": 31,
   "metadata": {
    "collapsed": true
   },
   "outputs": [],
   "source": [
    "#准备模型\n",
    "lgbm_clf = LGBMClassifier(reg_alpha=1)\n",
    "#准备参数\n",
    "num_leaves = range(10, 35, 1)\n",
    "max_depth = range(3, 7, 1)\n",
    "learning_rate = [0.01, 0.1, 0.2, 0.3, 0.4, 0.5]\n",
    "n_estimators = range(50, 160, 10)\n",
    "params_grid = dict(num_leaves=num_leaves, max_depth=max_depth, \n",
    "                   learning_rate=learning_rate, n_estimators=n_estimators)"
   ]
  },
  {
   "cell_type": "code",
   "execution_count": 32,
   "metadata": {},
   "outputs": [
    {
     "name": "stdout",
     "output_type": "stream",
     "text": [
      "Fitting 5 folds for each of 6600 candidates, totalling 33000 fits\n"
     ]
    },
    {
     "name": "stderr",
     "output_type": "stream",
     "text": [
      "[Parallel(n_jobs=-1)]: Using backend LokyBackend with 8 concurrent workers.\n",
      "[Parallel(n_jobs=-1)]: Done  25 tasks      | elapsed:    1.9s\n",
      "[Parallel(n_jobs=-1)]: Done 764 tasks      | elapsed:    6.0s\n",
      "[Parallel(n_jobs=-1)]: Done 2388 tasks      | elapsed:   22.2s\n",
      "[Parallel(n_jobs=-1)]: Done 3668 tasks      | elapsed:   36.8s\n",
      "[Parallel(n_jobs=-1)]: Done 5128 tasks      | elapsed:   55.8s\n",
      "[Parallel(n_jobs=-1)]: Done 6908 tasks      | elapsed:  1.3min\n",
      "[Parallel(n_jobs=-1)]: Done 9016 tasks      | elapsed:  1.7min\n",
      "[Parallel(n_jobs=-1)]: Done 11444 tasks      | elapsed:  2.2min\n",
      "[Parallel(n_jobs=-1)]: Done 14200 tasks      | elapsed:  2.7min\n",
      "[Parallel(n_jobs=-1)]: Done 17276 tasks      | elapsed:  3.2min\n",
      "[Parallel(n_jobs=-1)]: Done 20680 tasks      | elapsed:  3.9min\n",
      "[Parallel(n_jobs=-1)]: Done 24404 tasks      | elapsed:  4.5min\n",
      "[Parallel(n_jobs=-1)]: Done 28456 tasks      | elapsed:  5.3min\n",
      "[Parallel(n_jobs=-1)]: Done 32828 tasks      | elapsed:  6.2min\n",
      "[Parallel(n_jobs=-1)]: Done 33000 out of 33000 | elapsed:  6.2min finished\n"
     ]
    },
    {
     "data": {
      "text/plain": [
       "GridSearchCV(cv=5, error_score='raise-deprecating',\n",
       "       estimator=LGBMClassifier(boosting_type='gbdt', class_weight=None, colsample_bytree=1.0,\n",
       "        learning_rate=0.1, max_depth=-1, min_child_samples=20,\n",
       "        min_child_weight=0.001, min_split_gain=0.0, n_estimators=100,\n",
       "        n_jobs=-1, num_leaves=31, objective=None, random_state=None,\n",
       "        reg_alpha=1, reg_lambda=0.0, silent=True, subsample=1.0,\n",
       "        subsample_for_bin=200000, subsample_freq=1),\n",
       "       fit_params=None, iid='warn', n_jobs=-1,\n",
       "       param_grid={'num_leaves': range(10, 35), 'max_depth': range(3, 7), 'learning_rate': [0.01, 0.1, 0.2, 0.3, 0.4, 0.5], 'n_estimators': range(50, 160, 10)},\n",
       "       pre_dispatch='2*n_jobs', refit=True, return_train_score='warn',\n",
       "       scoring='roc_auc', verbose=2)"
      ]
     },
     "execution_count": 32,
     "metadata": {},
     "output_type": "execute_result"
    }
   ],
   "source": [
    "#实例化gridsearchCV模型，并训练\n",
    "grsearch = GridSearchCV(estimator = lgbm_clf,\n",
    "                        param_grid = params_grid,\n",
    "                        scoring = 'roc_auc',\n",
    "                        cv = 5,\n",
    "                        n_jobs = -1,\n",
    "                        verbose = 2)\n",
    "grsearch.fit(X_train, y_train)"
   ]
  },
  {
   "cell_type": "code",
   "execution_count": 33,
   "metadata": {},
   "outputs": [
    {
     "name": "stdout",
     "output_type": "stream",
     "text": [
      "0.9955150788501915\n",
      "{'learning_rate': 0.5, 'max_depth': 3, 'n_estimators': 50, 'num_leaves': 10}\n",
      "LGBMClassifier(boosting_type='gbdt', class_weight=None, colsample_bytree=1.0,\n",
      "        learning_rate=0.5, max_depth=3, min_child_samples=20,\n",
      "        min_child_weight=0.001, min_split_gain=0.0, n_estimators=50,\n",
      "        n_jobs=-1, num_leaves=10, objective=None, random_state=None,\n",
      "        reg_alpha=1, reg_lambda=0.0, silent=True, subsample=1.0,\n",
      "        subsample_for_bin=200000, subsample_freq=1)\n"
     ]
    }
   ],
   "source": [
    "#导出结果\n",
    "best_lgbm_clf = grsearch.best_estimator_\n",
    "best_lgbm_params = grsearch.best_params_\n",
    "best_lgbm_score = grsearch.best_score_\n",
    "print(best_lgbm_score)\n",
    "print(best_lgbm_params)\n",
    "print(best_lgbm_clf)"
   ]
  },
  {
   "cell_type": "code",
   "execution_count": 34,
   "metadata": {},
   "outputs": [
    {
     "data": {
      "image/png": "[encoded data removed]",
      "text/plain": [
       "<matplotlib.figure.Figure at 0x234bb8518d0>"
      ]
     },
     "metadata": {},
     "output_type": "display_data"
    },
    {
     "name": "stdout",
     "output_type": "stream",
     "text": [
      "auc:0.980\n"
     ]
    }
   ],
   "source": [
    "#预测测试集结果\n",
    "lgbm_preY_prob = best_lgbm_clf.predict_proba(X_test)[:,1]\n",
    "lgbm_preY = best_lgbm_clf.predict(X_test)\n",
    "#ROC和AUC评价\n",
    "fpr, tpr, thres = metrics.roc_curve(y_test, lgbm_preY_prob)\n",
    "auc = metrics.roc_auc_score(y_test, lgbm_preY_prob)\n",
    "plt.plot(fpr, tpr, \"b-\")\n",
    "plt.title(\"Roc_Curve\")\n",
    "plt.show()\n",
    "print(\"auc:%.3f\"%auc)"
   ]
  },
  {
   "cell_type": "markdown",
   "metadata": {},
   "source": [
    "## RandomizedSearch用法"
   ]
  },
  {
   "cell_type": "code",
   "execution_count": 35,
   "metadata": {
    "collapsed": true
   },
   "outputs": [],
   "source": [
    "from sklearn.model_selection import RandomizedSearchCV"
   ]
  },
  {
   "cell_type": "markdown",
   "metadata": {},
   "source": [
    "<font color='blue' size=3>RandomizedSearchCV参数</font>"
   ]
  },
  {
   "cell_type": "markdown",
   "metadata": {},
   "source": [
    "|参数|默认值|解释|\n",
    "|:-------:|:---|:--------|\n",
    "|estimator|无|模型估计器，使用scikit-learn的接口。|\n",
    "|param_distributions|无|需要遍历的参数和取值。|\n",
    "|n_iter|10|抽样次数。|\n",
    "|scoring|None|模型评价标准，默认None,这时需要使用score函数,或者如scoring='roc_auc'，根据所选模型不同，评价准则不同。|\n",
    "|fit_params|None||\n",
    "|n_jobs|None|并行数，int,-1:跟CPU核数一致。|\n",
    "|iid|'warn'|默认为True，各个样本fold概率分布一致。|\n",
    "|refit|True|再搜索参数结束后，用最佳参数结果再次fit一遍全部数据集。|\n",
    "|cv|None|默认为None，就是3折交叉验证，可以指定fold数量。|\n",
    "|verbose|0|日志长度，0：不输出训练过程；1：偶尔输出；>1：每个子模型都输出。|\n",
    "|pre_dispatch|'2*n_jobs'|预派遣任务数，指定总分发的并行任务数。|\n",
    "|random_state|None|随机种子，int，随即状态是随机数生成器所使用的种子。|\n",
    "|err_score|'raise-deprecating'|默认值：在拟合过程中产生误差，误差分数会提高。|\n",
    "|return_train_score|'warn'|默认为True，返回的cv_results_属性包括训练分数。|\n",
    "[scoring取值](https://scikit-learn.org/stable/modules/model_evaluation.html#scoring-parameter\n",
    ")"
   ]
  },
  {
   "cell_type": "markdown",
   "metadata": {},
   "source": [
    "<font color='blue' size=3>RandomizedSearchCV例子</font>"
   ]
  },
  {
   "cell_type": "markdown",
   "metadata": {},
   "source": [
    "**用RandomizedSearch寻找LightGBM模型超参**"
   ]
  },
  {
   "cell_type": "code",
   "execution_count": 41,
   "metadata": {
    "collapsed": true
   },
   "outputs": [],
   "source": [
    "#准备模型\n",
    "lgbm_clf = LGBMClassifier(reg_alpha=1)\n",
    "#准备参数\n",
    "num_leaves = range(10, 35, 1)\n",
    "max_depth = range(3, 7, 1)\n",
    "learning_rate = [0.01, 0.1, 0.2, 0.3, 0.4, 0.5]\n",
    "n_estimators = range(50, 160, 10)\n",
    "params_random = dict(num_leaves=num_leaves, max_depth=max_depth, \n",
    "                   learning_rate=learning_rate, n_estimators=n_estimators)"
   ]
  },
  {
   "cell_type": "code",
   "execution_count": 42,
   "metadata": {},
   "outputs": [
    {
     "name": "stdout",
     "output_type": "stream",
     "text": [
      "Fitting 5 folds for each of 100 candidates, totalling 500 fits\n"
     ]
    },
    {
     "name": "stderr",
     "output_type": "stream",
     "text": [
      "[Parallel(n_jobs=-1)]: Using backend LokyBackend with 8 concurrent workers.\n",
      "[Parallel(n_jobs=-1)]: Done  25 tasks      | elapsed:    4.4s\n",
      "[Parallel(n_jobs=-1)]: Done 405 tasks      | elapsed:    7.1s\n",
      "[Parallel(n_jobs=-1)]: Done 485 out of 500 | elapsed:    7.6s remaining:    0.1s\n",
      "[Parallel(n_jobs=-1)]: Done 500 out of 500 | elapsed:    7.7s finished\n"
     ]
    },
    {
     "data": {
      "text/plain": [
       "RandomizedSearchCV(cv=5, error_score='raise-deprecating',\n",
       "          estimator=LGBMClassifier(boosting_type='gbdt', class_weight=None, colsample_bytree=1.0,\n",
       "        learning_rate=0.1, max_depth=-1, min_child_samples=20,\n",
       "        min_child_weight=0.001, min_split_gain=0.0, n_estimators=100,\n",
       "        n_jobs=-1, num_leaves=31, objective=None, random_state=None,\n",
       "        reg_alpha=1, reg_lambda=0.0, silent=True, subsample=1.0,\n",
       "        subsample_for_bin=200000, subsample_freq=1),\n",
       "          fit_params=None, iid='warn', n_iter=100, n_jobs=-1,\n",
       "          param_distributions={'num_leaves': range(10, 35), 'max_depth': range(3, 7), 'learning_rate': [0.01, 0.1, 0.2, 0.3, 0.4, 0.5], 'n_estimators': range(50, 160, 10)},\n",
       "          pre_dispatch='2*n_jobs', random_state=None, refit=True,\n",
       "          return_train_score='warn', scoring='roc_auc', verbose=2)"
      ]
     },
     "execution_count": 42,
     "metadata": {},
     "output_type": "execute_result"
    }
   ],
   "source": [
    "#实例化randomizedsearchCV模型，并训练\n",
    "rdsearch = RandomizedSearchCV(estimator = lgbm_clf,\n",
    "                        param_distributions = params_random,\n",
    "                        n_iter = 100,\n",
    "                        scoring = 'roc_auc',\n",
    "                        cv = 5,\n",
    "                        n_jobs = -1,\n",
    "                        verbose = 2)\n",
    "rdsearch.fit(X_train, y_train)"
   ]
  },
  {
   "cell_type": "code",
   "execution_count": 43,
   "metadata": {},
   "outputs": [
    {
     "name": "stdout",
     "output_type": "stream",
     "text": [
      "0.9955150788501915\n",
      "{'num_leaves': 12, 'n_estimators': 130, 'max_depth': 3, 'learning_rate': 0.5}\n",
      "LGBMClassifier(boosting_type='gbdt', class_weight=None, colsample_bytree=1.0,\n",
      "        learning_rate=0.5, max_depth=3, min_child_samples=20,\n",
      "        min_child_weight=0.001, min_split_gain=0.0, n_estimators=130,\n",
      "        n_jobs=-1, num_leaves=12, objective=None, random_state=None,\n",
      "        reg_alpha=1, reg_lambda=0.0, silent=True, subsample=1.0,\n",
      "        subsample_for_bin=200000, subsample_freq=1)\n"
     ]
    }
   ],
   "source": [
    "#导出结果\n",
    "best_lgbm_clf = rdsearch.best_estimator_\n",
    "best_lgbm_params = rdsearch.best_params_\n",
    "best_lgbm_score = rdsearch.best_score_\n",
    "print(best_lgbm_score)\n",
    "print(best_lgbm_params)\n",
    "print(best_lgbm_clf)"
   ]
  },
  {
   "cell_type": "code",
   "execution_count": 44,
   "metadata": {},
   "outputs": [
    {
     "data": {
      "image/png": "[encoded data removed]",
      "text/plain": [
       "<matplotlib.figure.Figure at 0x234babc5470>"
      ]
     },
     "metadata": {},
     "output_type": "display_data"
    },
    {
     "name": "stdout",
     "output_type": "stream",
     "text": [
      "auc:0.980\n"
     ]
    }
   ],
   "source": [
    "#预测测试集结果\n",
    "lgbm_preY_prob = best_lgbm_clf.predict_proba(X_test)[:,1]\n",
    "lgbm_preY = best_lgbm_clf.predict(X_test)\n",
    "#ROC和AUC评价\n",
    "fpr, tpr, thres = metrics.roc_curve(y_test, lgbm_preY_prob)\n",
    "auc = metrics.roc_auc_score(y_test, lgbm_preY_prob)\n",
    "plt.plot(fpr, tpr, \"b-\")\n",
    "plt.title(\"Roc_Curve\")\n",
    "plt.show()\n",
    "print(\"auc:%.3f\"%auc)"
   ]
  },
  {
   "cell_type": "markdown",
   "metadata": {},
   "source": [
    "# BayesianOptimization用法"
   ]
  },
  {
   "cell_type": "code",
   "execution_count": 45,
   "metadata": {
    "collapsed": true
   },
   "outputs": [],
   "source": [
    "from bayes_opt import BayesianOptimization"
   ]
  },
  {
   "cell_type": "markdown",
   "metadata": {},
   "source": [
    "<font color='blue' size=3>BayesianOptimization参数</font>"
   ]
  },
  {
   "cell_type": "markdown",
   "metadata": {},
   "source": [
    "|参数|默认值|解释|\n",
    "|:-------:|:---|:--------|\n",
    "|f|无|自己定义的函数。|\n",
    "|pbounds|无|定义函数的参数。|\n",
    "|random_state|None|随机种子，int，随即状态是随机数生成器所使用的种子。|\n",
    "|verbose|0|日志长度，0：不输出训练过程；1：偶尔输出；>1：每个子模型都输出。|"
   ]
  },
  {
   "cell_type": "markdown",
   "metadata": {},
   "source": [
    "<font color='blue' size=3>BayesianOptimization例子</font>"
   ]
  },
  {
   "cell_type": "markdown",
   "metadata": {},
   "source": [
    "**用Bayes_Opt寻找LightGBM模型超参**"
   ]
  },
  {
   "cell_type": "code",
   "execution_count": 47,
   "metadata": {
    "collapsed": true
   },
   "outputs": [],
   "source": [
    "from lightgbm.sklearn import LGBMClassifier\n",
    "from sklearn.model_selection import cross_val_score"
   ]
  },
  {
   "cell_type": "code",
   "execution_count": 63,
   "metadata": {
    "collapsed": true
   },
   "outputs": [],
   "source": [
    "def lgbm_cv(num_leaves, max_depth, learning_rate, n_estimators):\n",
    "    params = dict(num_leaves=int(num_leaves), \n",
    "                  max_depth=int(max_depth),\n",
    "                  learning_rate=round(learning_rate,2),\n",
    "                  n_estimators=int(n_estimators))\n",
    "    lgbm_clf = LGBMClassifier(**params)\n",
    "    cv_scores = cross_val_score(lgbm_clf, X_train, y_train, scoring='roc_auc', cv=5)\n",
    "    return cv_scores.mean()"
   ]
  },
  {
   "cell_type": "code",
   "execution_count": 65,
   "metadata": {},
   "outputs": [
    {
     "name": "stdout",
     "output_type": "stream",
     "text": [
      "|   iter    |  target   | learni... | max_depth | n_esti... | num_le... |\n",
      "-------------------------------------------------------------------------\n",
      "| \u001b[0m 1       \u001b[0m | \u001b[0m 0.9938  \u001b[0m | \u001b[0m 0.05303 \u001b[0m | \u001b[0m 5.86    \u001b[0m | \u001b[0m 91.33   \u001b[0m | \u001b[0m 24.1    \u001b[0m |\n",
      "| \u001b[95m 2       \u001b[0m | \u001b[95m 0.9959  \u001b[0m | \u001b[95m 0.2451  \u001b[0m | \u001b[95m 4.669   \u001b[0m | \u001b[95m 57.59   \u001b[0m | \u001b[95m 20.04   \u001b[0m |\n",
      "| \u001b[0m 3       \u001b[0m | \u001b[0m 0.9947  \u001b[0m | \u001b[0m 0.03573 \u001b[0m | \u001b[0m 6.124   \u001b[0m | \u001b[0m 146.8   \u001b[0m | \u001b[0m 20.77   \u001b[0m |\n",
      "| \u001b[0m 4       \u001b[0m | \u001b[0m 0.9949  \u001b[0m | \u001b[0m 0.2918  \u001b[0m | \u001b[0m 4.454   \u001b[0m | \u001b[0m 34.57   \u001b[0m | \u001b[0m 30.17   \u001b[0m |\n",
      "| \u001b[0m 5       \u001b[0m | \u001b[0m 0.9954  \u001b[0m | \u001b[0m 0.3994  \u001b[0m | \u001b[0m 3.977   \u001b[0m | \u001b[0m 145.4   \u001b[0m | \u001b[0m 26.72   \u001b[0m |\n",
      "| \u001b[0m 6       \u001b[0m | \u001b[0m 0.9946  \u001b[0m | \u001b[0m 0.431   \u001b[0m | \u001b[0m 6.674   \u001b[0m | \u001b[0m 30.0    \u001b[0m | \u001b[0m 10.08   \u001b[0m |\n",
      "| \u001b[0m 7       \u001b[0m | \u001b[0m 0.9953  \u001b[0m | \u001b[0m 0.239   \u001b[0m | \u001b[0m 3.486   \u001b[0m | \u001b[0m 149.8   \u001b[0m | \u001b[0m 10.0    \u001b[0m |\n",
      "| \u001b[95m 8       \u001b[0m | \u001b[95m 0.9961  \u001b[0m | \u001b[95m 0.3779  \u001b[0m | \u001b[95m 6.651   \u001b[0m | \u001b[95m 150.0   \u001b[0m | \u001b[95m 34.96   \u001b[0m |\n",
      "| \u001b[0m 9       \u001b[0m | \u001b[0m 0.9956  \u001b[0m | \u001b[0m 0.3382  \u001b[0m | \u001b[0m 6.216   \u001b[0m | \u001b[0m 149.9   \u001b[0m | \u001b[0m 34.95   \u001b[0m |\n",
      "| \u001b[0m 10      \u001b[0m | \u001b[0m 0.9956  \u001b[0m | \u001b[0m 0.2258  \u001b[0m | \u001b[0m 3.156   \u001b[0m | \u001b[0m 149.9   \u001b[0m | \u001b[0m 34.97   \u001b[0m |\n",
      "| \u001b[0m 11      \u001b[0m | \u001b[0m 0.9955  \u001b[0m | \u001b[0m 0.173   \u001b[0m | \u001b[0m 6.861   \u001b[0m | \u001b[0m 149.9   \u001b[0m | \u001b[0m 10.23   \u001b[0m |\n",
      "| \u001b[0m 12      \u001b[0m | \u001b[0m 0.9947  \u001b[0m | \u001b[0m 0.3014  \u001b[0m | \u001b[0m 6.843   \u001b[0m | \u001b[0m 30.04   \u001b[0m | \u001b[0m 34.6    \u001b[0m |\n",
      "| \u001b[0m 13      \u001b[0m | \u001b[0m 0.9952  \u001b[0m | \u001b[0m 0.1075  \u001b[0m | \u001b[0m 3.195   \u001b[0m | \u001b[0m 149.7   \u001b[0m | \u001b[0m 10.09   \u001b[0m |\n",
      "| \u001b[95m 14      \u001b[0m | \u001b[95m 0.9963  \u001b[0m | \u001b[95m 0.3191  \u001b[0m | \u001b[95m 6.512   \u001b[0m | \u001b[95m 149.9   \u001b[0m | \u001b[95m 34.93   \u001b[0m |\n",
      "| \u001b[0m 15      \u001b[0m | \u001b[0m 0.9944  \u001b[0m | \u001b[0m 0.1916  \u001b[0m | \u001b[0m 4.58    \u001b[0m | \u001b[0m 150.0   \u001b[0m | \u001b[0m 34.85   \u001b[0m |\n",
      "| \u001b[0m 16      \u001b[0m | \u001b[0m 0.9949  \u001b[0m | \u001b[0m 0.4833  \u001b[0m | \u001b[0m 6.434   \u001b[0m | \u001b[0m 150.0   \u001b[0m | \u001b[0m 10.15   \u001b[0m |\n",
      "| \u001b[0m 17      \u001b[0m | \u001b[0m 0.9958  \u001b[0m | \u001b[0m 0.4059  \u001b[0m | \u001b[0m 6.286   \u001b[0m | \u001b[0m 150.0   \u001b[0m | \u001b[0m 34.93   \u001b[0m |\n",
      "| \u001b[0m 18      \u001b[0m | \u001b[0m 0.9955  \u001b[0m | \u001b[0m 0.3328  \u001b[0m | \u001b[0m 5.736   \u001b[0m | \u001b[0m 149.8   \u001b[0m | \u001b[0m 34.98   \u001b[0m |\n",
      "| \u001b[0m 19      \u001b[0m | \u001b[0m 0.9909  \u001b[0m | \u001b[0m 0.06089 \u001b[0m | \u001b[0m 4.619   \u001b[0m | \u001b[0m 30.12   \u001b[0m | \u001b[0m 34.89   \u001b[0m |\n",
      "| \u001b[0m 20      \u001b[0m | \u001b[0m 0.995   \u001b[0m | \u001b[0m 0.04313 \u001b[0m | \u001b[0m 6.676   \u001b[0m | \u001b[0m 149.9   \u001b[0m | \u001b[0m 10.15   \u001b[0m |\n",
      "| \u001b[0m 21      \u001b[0m | \u001b[0m 0.9954  \u001b[0m | \u001b[0m 0.2751  \u001b[0m | \u001b[0m 6.629   \u001b[0m | \u001b[0m 149.8   \u001b[0m | \u001b[0m 10.04   \u001b[0m |\n",
      "| \u001b[0m 22      \u001b[0m | \u001b[0m 0.9957  \u001b[0m | \u001b[0m 0.1917  \u001b[0m | \u001b[0m 3.839   \u001b[0m | \u001b[0m 150.0   \u001b[0m | \u001b[0m 10.23   \u001b[0m |\n",
      "| \u001b[0m 23      \u001b[0m | \u001b[0m 0.995   \u001b[0m | \u001b[0m 0.08528 \u001b[0m | \u001b[0m 3.548   \u001b[0m | \u001b[0m 149.9   \u001b[0m | \u001b[0m 10.04   \u001b[0m |\n",
      "| \u001b[0m 24      \u001b[0m | \u001b[0m 0.9956  \u001b[0m | \u001b[0m 0.2508  \u001b[0m | \u001b[0m 3.324   \u001b[0m | \u001b[0m 150.0   \u001b[0m | \u001b[0m 34.66   \u001b[0m |\n",
      "| \u001b[0m 25      \u001b[0m | \u001b[0m 0.9957  \u001b[0m | \u001b[0m 0.349   \u001b[0m | \u001b[0m 3.753   \u001b[0m | \u001b[0m 150.0   \u001b[0m | \u001b[0m 34.81   \u001b[0m |\n",
      "| \u001b[95m 26      \u001b[0m | \u001b[95m 0.9963  \u001b[0m | \u001b[95m 0.3312  \u001b[0m | \u001b[95m 6.89    \u001b[0m | \u001b[95m 149.8   \u001b[0m | \u001b[95m 10.04   \u001b[0m |\n",
      "| \u001b[0m 27      \u001b[0m | \u001b[0m 0.995   \u001b[0m | \u001b[0m 0.4113  \u001b[0m | \u001b[0m 6.338   \u001b[0m | \u001b[0m 149.9   \u001b[0m | \u001b[0m 10.36   \u001b[0m |\n",
      "| \u001b[0m 28      \u001b[0m | \u001b[0m 0.9949  \u001b[0m | \u001b[0m 0.4616  \u001b[0m | \u001b[0m 6.834   \u001b[0m | \u001b[0m 149.7   \u001b[0m | \u001b[0m 34.8    \u001b[0m |\n",
      "| \u001b[95m 29      \u001b[0m | \u001b[95m 0.9968  \u001b[0m | \u001b[95m 0.4376  \u001b[0m | \u001b[95m 6.552   \u001b[0m | \u001b[95m 149.4   \u001b[0m | \u001b[95m 10.1    \u001b[0m |\n",
      "| \u001b[0m 30      \u001b[0m | \u001b[0m 0.9945  \u001b[0m | \u001b[0m 0.08642 \u001b[0m | \u001b[0m 6.968   \u001b[0m | \u001b[0m 149.8   \u001b[0m | \u001b[0m 10.33   \u001b[0m |\n",
      "=========================================================================\n"
     ]
    }
   ],
   "source": [
    "lgbm_bayes_opt = BayesianOptimization(lgbm_cv,\n",
    "                                      {'num_leaves':(10,35),\n",
    "                                       'max_depth':(3,7),\n",
    "                                       'learning_rate':(0.01,0.5),\n",
    "                                       'n_estimators':(30,150)\n",
    "                                      })\n",
    "lgbm_bayes_opt.maximize()"
   ]
  },
  {
   "cell_type": "code",
   "execution_count": 67,
   "metadata": {},
   "outputs": [
    {
     "name": "stdout",
     "output_type": "stream",
     "text": [
      "{'target': 0.9967712784943489, 'params': {'learning_rate': 0.43763221277141123, 'max_depth': 6.552217306264733, 'n_estimators': 149.38656418295477, 'num_leaves': 10.097408378859809}}\n"
     ]
    }
   ],
   "source": [
    "print(lgbm_bayes_opt.max)"
   ]
  },
  {
   "cell_type": "code",
   "execution_count": 71,
   "metadata": {},
   "outputs": [
    {
     "data": {
      "text/plain": [
       "LGBMClassifier(boosting_type='gbdt', class_weight=None, colsample_bytree=1.0,\n",
       "        learning_rate=0.44, max_depth=6, min_child_samples=20,\n",
       "        min_child_weight=0.001, min_split_gain=0.0, n_estimators=149,\n",
       "        n_jobs=-1, num_leaves=10, objective=None, random_state=None,\n",
       "        reg_alpha=0.0, reg_lambda=1, silent=True, subsample=1.0,\n",
       "        subsample_for_bin=200000, subsample_freq=1)"
      ]
     },
     "execution_count": 71,
     "metadata": {},
     "output_type": "execute_result"
    }
   ],
   "source": [
    "#得到最优参数后重新训练\n",
    "params = dict(num_leaves=int(lgbm_bayes_opt.max['params']['num_leaves']), \n",
    "                  max_depth=int(lgbm_bayes_opt.max['params']['max_depth']),\n",
    "                  learning_rate=round(lgbm_bayes_opt.max['params']['learning_rate'],2),\n",
    "                  n_estimators=int(lgbm_bayes_opt.max['params']['n_estimators']))\n",
    "lgbm_clf_bayes = LGBMClassifier(**params,reg_lambda=1)\n",
    "lgbm_clf_bayes.fit(X_train, y_train)"
   ]
  },
  {
   "cell_type": "code",
   "execution_count": 72,
   "metadata": {},
   "outputs": [
    {
     "data": {
      "image/png": "[encoded data removed]",
      "text/plain": [
       "<matplotlib.figure.Figure at 0x234ba662828>"
      ]
     },
     "metadata": {},
     "output_type": "display_data"
    },
    {
     "name": "stdout",
     "output_type": "stream",
     "text": [
      "auc:0.986\n"
     ]
    }
   ],
   "source": [
    "#预测测试集结果\n",
    "lgbm_preY_prob = lgbm_clf_bayes.predict_proba(X_test)[:,1]\n",
    "lgbm_preY = lgbm_clf_bayes.predict(X_test)\n",
    "#ROC和AUC评价\n",
    "fpr, tpr, thres = metrics.roc_curve(y_test, lgbm_preY_prob)\n",
    "auc = metrics.roc_auc_score(y_test, lgbm_preY_prob)\n",
    "plt.plot(fpr, tpr, \"b-\")\n",
    "plt.title(\"Roc_Curve\")\n",
    "plt.show()\n",
    "print(\"auc:%.3f\"%auc)"
   ]
  },
  {
   "cell_type": "markdown",
   "metadata": {},
   "source": [
    "**另一种DEMO**"
   ]
  },
  {
   "cell_type": "code",
   "execution_count": null,
   "metadata": {
    "collapsed": true
   },
   "outputs": [],
   "source": [
    "import lightgbm as lgb\n",
    "from bayes_opt import BayesianOptimization\n",
    "import warnings\n",
    "warnings.filterwarnings(\"ignore\")\n",
    "\n",
    "from sklearn.datasets import make_classification\n",
    "\n",
    "X, y = make_classification(n_samples=10000,n_features=20,n_classes=2,random_state=2)\n",
    "data = lgb.Dataset(X,y)\n",
    "\n",
    "def lgb_cv(feature_fraction,bagging_fraction,min_data_in_leaf,max_depth,min_split_gain,num_leaves,lambda_l1,lambda_l2,num_iterations=1000):\n",
    "        params = {'objective':'binary','num_iterations': num_iterations, 'early_stopping_round':50, 'metric':'l1'}\n",
    "        params['feature_fraction'] = max(min(feature_fraction, 1), 0)\n",
    "        params['bagging_fraction'] = max(min(bagging_fraction, 1), 0)\n",
    "        params[\"min_data_in_leaf\"] = int(round(min_data_in_leaf))\n",
    "        params['max_depth'] = int(round(max_depth))\n",
    "        params['min_split_gain'] = min_split_gain      \n",
    "        params[\"num_leaves\"] = int(round(num_leaves))\n",
    "        params['lambda_l1'] = max(lambda_l1, 0)\n",
    "        params['lambda_l2'] = max(lambda_l2, 0)\n",
    "        \n",
    "        cv_result = lgb.cv(params, data, nfold=5, seed=2, stratified=True, verbose_eval =50)\n",
    "        return -(min(cv_result['l1-mean']))\n",
    "\n",
    "lgb_bo = BayesianOptimization(\n",
    "        lgb_cv,\n",
    "        {'feature_fraction': (0.5, 1),\n",
    "        'bagging_fraction': (0.5, 1),\n",
    "        'min_data_in_leaf': (1,100),\n",
    "        'max_depth': (3, 15),\n",
    "         'min_split_gain': (0, 5),\n",
    "         'num_leaves': (16, 128),\n",
    "         'lambda_l1': (0, 100),\n",
    "         'lambda_l2': (0, 100)}\n",
    "    )        \n",
    "\n",
    "lgb_bo.maximize(init_points=21,n_iter=90) #init_points表示初始点，n_iter代表迭代次数（即采样数）\n",
    "print (lgb_bo.max)"
   ]
  },
  {
   "cell_type": "code",
   "execution_count": null,
   "metadata": {
    "collapsed": true
   },
   "outputs": [],
   "source": []
  }
 ],
 "metadata": {
  "kernelspec": {
   "display_name": "Python 3",
   "language": "python",
   "name": "python3"
  },
  "language_info": {
   "codemirror_mode": {
    "name": "ipython",
    "version": 3
   },
   "file_extension": ".py",
   "mimetype": "text/x-python",
   "name": "python",
   "nbconvert_exporter": "python",
   "pygments_lexer": "ipython3",
   "version": "3.6.3"
  }
 },
 "nbformat": 4,
 "nbformat_minor": 2
}
